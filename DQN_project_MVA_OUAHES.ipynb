{
 "cells": [
  {
   "cell_type": "markdown",
   "metadata": {},
   "source": [
    "**You may need to install [OpenCV](https://pypi.python.org/pypi/opencv-python) and [scikit-video](http://www.scikit-video.org/stable/).**"
   ]
  },
  {
   "cell_type": "code",
   "execution_count": 1,
   "metadata": {},
   "outputs": [
    {
     "name": "stderr",
     "output_type": "stream",
     "text": [
      "C:\\Users\\izaou\\Anaconda3\\lib\\site-packages\\h5py\\__init__.py:36: FutureWarning: Conversion of the second argument of issubdtype from `float` to `np.floating` is deprecated. In future, it will be treated as `np.float64 == np.dtype(float).type`.\n",
      "  from ._conv import register_converters as _register_converters\n",
      "Using TensorFlow backend.\n"
     ]
    }
   ],
   "source": [
    "import keras\n",
    "import numpy as np\n",
    "import io\n",
    "import base64\n",
    "from IPython.display import HTML\n",
    "import skvideo.io\n",
    "import cv2\n",
    "import json\n",
    "\n",
    "from keras.models import Sequential,model_from_json\n",
    "from keras.layers.core import Dense\n",
    "from keras.optimizers import sgd\n",
    "from keras.layers import Conv2D, MaxPooling2D, Activation, AveragePooling2D,Reshape,BatchNormalization,Flatten"
   ]
  },
  {
   "cell_type": "markdown",
   "metadata": {},
   "source": [
    "# MiniProject #3: Deep Reinforcement Learning"
   ]
  },
  {
   "cell_type": "markdown",
   "metadata": {},
   "source": [
    "__Notations__: $E_p$ is the expectation under probability $p$. Please justify each of your answer and widely comment your code."
   ]
  },
  {
   "cell_type": "markdown",
   "metadata": {},
   "source": [
    "# Context"
   ]
  },
  {
   "cell_type": "markdown",
   "metadata": {},
   "source": [
    "In a reinforcement learning algorithm, we modelize each step $t$ as an action $a_t$ obtained from a state $s_t$, i.e. $\\{(a_{t},s_{t})_{t\\leq T}\\}$ having the Markov property. We consider a discount factor $\\gamma \\in [0,1]$ that ensures convergence. The goal is to find among all the policies $\\pi$, one that maximizes the expected reward:\n",
    "\n",
    "\\begin{equation*}\n",
    "R(\\pi)=\\sum_{t\\leq T}E_{p^{\\pi}}[\\gamma^t r(s_{t},a_{t})] \\> ,\n",
    "\\end{equation*}\n",
    "\n",
    "where: \n",
    "\\begin{equation*}p^{\\pi}(a_{0},a_{1},s_{1},...,a_{T},s_{T})=p(a_{0})\\prod_{t=1}^{T}\\pi(a_{t}|s_{t})p(s_{t+1}|s_{t},a_{t}) \\> .\n",
    "\\end{equation*}\n",
    "\n",
    "We note the $Q$-function:\n",
    "\n",
    "\\begin{equation*}Q^\\pi(s,a)=E_{p^{\\pi}}[\\sum_{t\\leq T}\\gamma^{t}r(s_{t},a_{t})|s_{0}=s,a_{0}=a] \\> .\n",
    "\\end{equation*}\n",
    "\n",
    "Thus, the optimal Q function is:\n",
    "\\begin{equation*}\n",
    "Q^*(s,a)=\\max_{\\pi}Q^\\pi(s,a) \\> .\n",
    "\\end{equation*}\n",
    "\n",
    "In this project, we will apply the deep reinforcement learning techniques to a simple game: an agent will have to learn from scratch a policy that will permit it maximizing a reward."
   ]
  },
  {
   "cell_type": "markdown",
   "metadata": {},
   "source": [
    "## The environment, the agent and the game"
   ]
  },
  {
   "cell_type": "markdown",
   "metadata": {},
   "source": [
    "### The environment"
   ]
  },
  {
   "cell_type": "markdown",
   "metadata": {},
   "source": [
    "```Environment``` is an abstract class that represents the states, rewards, and actions to obtain the new state."
   ]
  },
  {
   "cell_type": "code",
   "execution_count": 2,
   "metadata": {},
   "outputs": [],
   "source": [
    "class Environment(object):\n",
    "    def __init__(self):\n",
    "        pass\n",
    "\n",
    "    def act(self, act):\n",
    "        \"\"\"\n",
    "        One can act on the environment and obtain its reaction:\n",
    "        - the new state\n",
    "        - the reward of the new state\n",
    "        - should we continue the game?\n",
    "\n",
    "        :return: state, reward, game_over\n",
    "        \"\"\"\n",
    "        pass\n",
    "\n",
    "\n",
    "    def reset(self):\n",
    "        \"\"\"\n",
    "        Reinitialize the environment to a random state and returns\n",
    "        the original state\n",
    "\n",
    "        :return: state\n",
    "        \"\"\"\n",
    "        pass\n",
    "    \n",
    "    def draw(self):\n",
    "        \"\"\"\n",
    "        Visualize in the console or graphically the current state\n",
    "        \"\"\"\n",
    "        pass"
   ]
  },
  {
   "cell_type": "markdown",
   "metadata": {},
   "source": [
    "The method ```act``` allows to act on the environment at a given state $s_t$ (stored internally), via action $a_t$. The method will return the new state $s_{t+1}$, the reward $r(s_{t},a_{t})$ and determines if $t\\leq T$ (*game_over*).\n",
    "\n",
    "The method ```reset``` simply reinitializes the environment to a random state $s_0$.\n",
    "\n",
    "The method ```draw``` displays the current state $s_t$ (this is useful to check the behavior of the Agent).\n",
    "\n",
    "We modelize $s_t$ as a tensor, while $a_t$ is an integer."
   ]
  },
  {
   "cell_type": "markdown",
   "metadata": {},
   "source": [
    "### The Agent"
   ]
  },
  {
   "cell_type": "markdown",
   "metadata": {},
   "source": [
    "The goal of the ```Agent``` is to interact with the ```Environment``` by proposing actions $a_t$ obtained from a given state $s_t$ to attempt to maximize its __reward__ $r(s_t,a_t)$. We propose the following abstract class:"
   ]
  },
  {
   "cell_type": "code",
   "execution_count": 24,
   "metadata": {},
   "outputs": [],
   "source": [
    "class Agent(object):\n",
    "    def __init__(self, epsilon=0.1, n_action=4):\n",
    "        self.epsilon = epsilon\n",
    "        self.n_action = n_action\n",
    "    \n",
    "    def set_epsilon(self,e):\n",
    "        self.epsilon = e\n",
    "    \n",
    "    def get_epsilon(self):\n",
    "        return self.epsilon\n",
    "\n",
    "    def act(self,s,train=True):\n",
    "        \"\"\" This function should return the next action to do:\n",
    "        an integer between 0 and 4 (not included) with a random exploration of epsilon\"\"\"\n",
    "        if train:\n",
    "            if np.random.rand() <= self.epsilon:\n",
    "                a = np.random.randint(0, self.n_action, size=1)[0]\n",
    "            else:\n",
    "                a = self.learned_act(s)\n",
    "        else: # in some cases, this can improve the performance.. remove it if poor performances\n",
    "            a = self.learned_act(s)\n",
    "\n",
    "        return a\n",
    "\n",
    "    def learned_act(self,s):\n",
    "        \"\"\" Act via the policy of the agent, from a given state s\n",
    "        it proposes an action a\"\"\"\n",
    "        pass\n",
    "\n",
    "    def reinforce(self, s, n_s, a, r, game_over_):\n",
    "        \"\"\" This function is the core of the learning algorithm. \n",
    "        It takes as an input the current state s_, the next state n_s_\n",
    "        the action a_ used to move from s_ to n_s_ and the reward r_.\n",
    "        \n",
    "        Its goal is to learn a policy.\n",
    "        \"\"\"\n",
    "        pass\n",
    "\n",
    "    def save(self):\n",
    "        \"\"\" This function returns basic stats if applicable: the\n",
    "        loss and/or the model\n",
    "        sauvegarder dans un fichier json \"\"\"\n",
    "        pass\n",
    "\n",
    "    def load(self):\n",
    "        \"\"\" This function allows to restore a model\"\"\"\n",
    "        pass\n",
    "    "
   ]
  },
  {
   "cell_type": "markdown",
   "metadata": {},
   "source": [
    "***\n",
    "__Question 1__:\n",
    "Explain the function act. Why is ```epsilon``` essential?"
   ]
  },
  {
   "cell_type": "markdown",
   "metadata": {},
   "source": [
    "Our agent will randomly select its action at first by a certain percentage, called ‘exploration rate’ that we call ‘epsilon’. It is essential for the agent to try all kinds of actions before it starts to see the patterns. When it is not deciding the action randomly, the agent will predict the reward value based on the current state and pick the action that will give the highest reward.\n",
    "Here we have to implement a new function learning rate overriting this one to start the learning(exploitation) after exploration."
   ]
  },
  {
   "cell_type": "markdown",
   "metadata": {},
   "source": [
    "***\n",
    "### The Game"
   ]
  },
  {
   "cell_type": "markdown",
   "metadata": {},
   "source": [
    "The ```Agent``` and the ```Environment``` work in an interlaced way as in the following (take some time to understand this code as it is the core of the project)\n",
    "\n",
    "```python\n",
    "\n",
    "epoch = 300\n",
    "env = Environment()\n",
    "agent = Agent()\n",
    "\n",
    "\n",
    "# Number of won games\n",
    "score = 0\n",
    "loss = 0\n",
    "\n",
    "\n",
    "for e in range(epoch):\n",
    "    # At each epoch, we restart to a fresh game and get the initial state\n",
    "    state = env.reset()\n",
    "    # This assumes that the games will end\n",
    "    game_over = False\n",
    "\n",
    "    win = 0\n",
    "    lose = 0\n",
    "    \n",
    "    while not game_over:\n",
    "        # The agent performs an action\n",
    "        #using method act of agent\n",
    "        action = agent.act(state)\n",
    "\n",
    "        # Apply an action to the environment, get the next state, the reward\n",
    "        # and if the games end\n",
    "        #keep the previous state\n",
    "        prev_state = state\n",
    "        state, reward, game_over = env.act(action)\n",
    "\n",
    "        # Update the counters\n",
    "        if reward > 0:\n",
    "            win = win + reward\n",
    "        if reward < 0:\n",
    "            lose = lose -reward\n",
    "\n",
    "        # Apply the reinforcement strategy\n",
    "        #mise à jour des connaissances et de l'apprentissage\n",
    "        #weight du reseau de neuronnes?\n",
    "        loss = agent.reinforce(prev_state, state,  action, reward, game_over)\n",
    "\n",
    "    # Save as a mp4\n",
    "    if e % 10 == 0:\n",
    "        env.draw(e)\n",
    "\n",
    "    # Update stats\n",
    "    score += win-lose\n",
    "\n",
    "    print(\"Epoch {:03d}/{:03d} | Loss {:.4f} | Win/lose count {}/{} ({})\"\n",
    "          .format(e, epoch, loss, win, lose, win-lose))\n",
    "    agent.save()\n",
    "```"
   ]
  },
  {
   "cell_type": "markdown",
   "metadata": {},
   "source": [
    "# The game, *eat cheese*"
   ]
  },
  {
   "cell_type": "markdown",
   "metadata": {},
   "source": [
    "A rat runs on an island and tries to eat as much as possible. The island is subdivided into $N\\times N$ cells, in which there are cheese (+0.5) and poisonous cells (-1). The rat has a visibility of 2 cells (thus it can see $5^2$ cells). The rat is given a time $T$ to accumulate as much food as possible. It can perform 4 actions: going up, down, left, right. \n",
    "\n",
    "The goal is to code an agent to solve this task that will learn by trial and error. We propose the following environment:"
   ]
  },
  {
   "cell_type": "code",
   "execution_count": 25,
   "metadata": {},
   "outputs": [],
   "source": [
    "class Environment(object):\n",
    "    def __init__(self, grid_size=10, max_time=500, temperature=0.1):\n",
    "        grid_size = grid_size+4 #increasing plateau of 2 cells\n",
    "        self.grid_size = grid_size\n",
    "        self.max_time = max_time\n",
    "        self.temperature = temperature\n",
    "\n",
    "        self.board = np.zeros((grid_size,grid_size))\n",
    "        #position eau et position du rat\n",
    "        self.position = np.zeros((grid_size,grid_size))\n",
    "\n",
    "        # coordinate of the cat\n",
    "        self.x = 0\n",
    "        self.y = 1\n",
    "\n",
    "        # self time\n",
    "        self.t = 0\n",
    "        #for screening\n",
    "        self.scale=16\n",
    "\n",
    "        self.to_draw = np.zeros((max_time+2, grid_size*self.scale, grid_size*self.scale, 3))\n",
    "\n",
    "\n",
    "    def draw(self,e):\n",
    "        skvideo.io.vwrite(str(e) + '.mp4', self.to_draw)\n",
    "\n",
    "    def get_frame(self,t):\n",
    "        b = np.zeros((self.grid_size,self.grid_size,3))+128\n",
    "        b[self.board>0,0] = 256\n",
    "        b[self.board < 0, 2] = 256\n",
    "        b[self.x,self.y,:]=256\n",
    "        b[-2:,:,:]=0\n",
    "        b[:,-2:,:]=0\n",
    "        b[:2,:,:]=0\n",
    "        b[:,:2,:]=0\n",
    "        \n",
    "        b =  cv2.resize(b, None, fx=self.scale, fy=self.scale, interpolation=cv2.INTER_NEAREST)\n",
    "\n",
    "        self.to_draw[t,:,:,:]=b\n",
    "\n",
    "\n",
    "    def act(self, action, train=False):\n",
    "        \"\"\"This function returns the new state, reward and decides if the\n",
    "        game ends.\n",
    "        l'environnement recoit l'action et se modifie\"\"\"\n",
    "\n",
    "        self.get_frame(int(self.t))\n",
    "        \n",
    "        #reinitialisation de la position du rat à chaque partie mais pas le bord\n",
    "        self.position = np.zeros((self.grid_size, self.grid_size))\n",
    "        \n",
    "        #eau autour du board d'action\n",
    "        self.position[0:2,:]= -1\n",
    "        self.position[:,0:2] = -1\n",
    "        self.position[-2:, :] = -1\n",
    "        self.position[:, -2:] = -1\n",
    "\n",
    "        self.position[self.x, self.y] = 1\n",
    "        #differentes positions possibles\n",
    "        if action == 0:\n",
    "            if self.x == self.grid_size-3:\n",
    "                self.x = self.x-1\n",
    "            else:\n",
    "                self.x = self.x + 1\n",
    "        elif action == 1:\n",
    "            if self.x == 2:\n",
    "                self.x = self.x+1\n",
    "            else:\n",
    "                self.x = self.x-1\n",
    "        elif action == 2:\n",
    "            if self.y == self.grid_size - 3:\n",
    "                self.y = self.y - 1\n",
    "            else:\n",
    "                self.y = self.y + 1\n",
    "        elif action == 3:\n",
    "            if self.y == 2:\n",
    "                self.y = self.y + 1\n",
    "            else:\n",
    "                self.y = self.y - 1\n",
    "        else:\n",
    "            RuntimeError('Error: action not recognized')\n",
    "\n",
    "        self.t = self.t + 1\n",
    "        reward = self.board[self.x, self.y]\n",
    "        self.board[self.x, self.y] = 0\n",
    "        game_over = self.t > self.max_time\n",
    "        \n",
    "        #input for the neural network\n",
    "        #creation tuple ==> stock position and board\n",
    "        state = np.concatenate((self.board.reshape(self.grid_size, self.grid_size,1),\n",
    "                        self.position.reshape(self.grid_size, self.grid_size,1)),axis=2)\n",
    "        #take only the environment of the rat (everything the rat can see)\n",
    "        state = state[self.x-2:self.x+3,self.y-2:self.y+3,:]\n",
    "\n",
    "        return state, reward, game_over\n",
    "\n",
    "    def reset(self):\n",
    "        \"\"\"This function resets the game and returns the initial state\"\"\"\n",
    "        #generation de la position du rat à au moins 3 cases de l'eau\n",
    "        self.x = np.random.randint(3, self.grid_size-3, size=1)[0]\n",
    "        self.y = np.random.randint(3, self.grid_size-3, size=1)[0]\n",
    "\n",
    "        #bonus for creation of board\n",
    "        #distribution malus and bonus==> cheese and poison with binomial distribution with temperature 0.5\n",
    "        bonus = 0.5*np.random.binomial(1,self.temperature,size=self.grid_size**2)\n",
    "        bonus = bonus.reshape(self.grid_size,self.grid_size)\n",
    "\n",
    "        malus = -1.0*np.random.binomial(1,self.temperature,size=self.grid_size**2)\n",
    "        malus = malus.reshape(self.grid_size, self.grid_size)\n",
    "\n",
    "        self.to_draw = np.zeros((self.max_time+2, self.grid_size*self.scale, self.grid_size*self.scale, 3))\n",
    "\n",
    "        #cas où on aurait -0.5 , cheese preponderant\n",
    "        malus[bonus>0]=0\n",
    "\n",
    "        self.board = bonus + malus\n",
    "\n",
    "        self.position = np.zeros((self.grid_size, self.grid_size))\n",
    "        self.position[0:2,:]= -1\n",
    "        self.position[:,0:2] = -1\n",
    "        self.position[-2:, :] = -1\n",
    "        self.position[:, -2:] = -1\n",
    "        self.board[self.x,self.y] = 0\n",
    "        self.t = 0\n",
    "\n",
    "        state = np.concatenate((\n",
    "                               self.board.reshape(self.grid_size, self.grid_size,1),\n",
    "                        self.position.reshape(self.grid_size, self.grid_size,1)),axis=2)\n",
    "\n",
    "        state = state[self.x - 2:self.x + 3, self.y - 2:self.y + 3, :]\n",
    "        return state"
   ]
  },
  {
   "cell_type": "markdown",
   "metadata": {},
   "source": [
    "The following elements are important because they correspond to the hyper parameters for this project:"
   ]
  },
  {
   "cell_type": "code",
   "execution_count": 5,
   "metadata": {},
   "outputs": [],
   "source": [
    "# parameters\n",
    "size = 13\n",
    "T=200\n",
    "temperature=0.3\n",
    "epochs_train=21 # set small when debugging\n",
    "epochs_test=21 # set small when debugging\n",
    "\n",
    "# display videos\n",
    "def display_videos(name):\n",
    "    video = io.open(name, 'r+b').read()\n",
    "    encoded = base64.b64encode(video)\n",
    "    return '''<video alt=\"test\" controls>\n",
    "                <source src=\"data:video/mp4;base64,{0}\" type=\"video/mp4\" />\n",
    "             </video>'''.format(encoded.decode('ascii'))"
   ]
  },
  {
   "cell_type": "markdown",
   "metadata": {},
   "source": [
    "__Question 2__ Explain the use of the arrays ```position``` and ```board```."
   ]
  },
  {
   "cell_type": "markdown",
   "metadata": {},
   "source": [
    "position : this variable gives to the rat its position and the limit of the map (2 cells from the last limit) \n",
    "board : This is where we play. This variable indicates the position of the rewards (bonus/cheese and malus/poison are distributed on the board 14x14)"
   ]
  },
  {
   "cell_type": "markdown",
   "metadata": {},
   "source": [
    "## Random Agent"
   ]
  },
  {
   "cell_type": "markdown",
   "metadata": {},
   "source": [
    "***\n",
    "__Question 3__ Implement a random Agent (only ```learned_act``` needs to be implemented):"
   ]
  },
  {
   "cell_type": "code",
   "execution_count": 6,
   "metadata": {},
   "outputs": [],
   "source": [
    "class RandomAgent(Agent):\n",
    "    def __init__(self):\n",
    "        super(RandomAgent, self).__init__()\n",
    "        pass\n",
    "\n",
    "    def learned_act(self, s):\n",
    "        return np.random.randint(0, self.n_action, size=1)[0]\n",
    "        "
   ]
  },
  {
   "cell_type": "markdown",
   "metadata": {},
   "source": [
    "***\n",
    "***\n",
    "__Question 4__ Visualize the game moves. You need to fill in the following function for the evaluation:"
   ]
  },
  {
   "cell_type": "code",
   "execution_count": 7,
   "metadata": {},
   "outputs": [],
   "source": [
    "def test(agent,env,epochs,prefix=''):\n",
    "    # Number of won games\n",
    "    score = 0\n",
    "        \n",
    "    for e in range(epochs):\n",
    "        \n",
    "        # At each epoch, we restart to a fresh game and get the initial state\n",
    "        state = env.reset()\n",
    "        # This assumes that the games will end\n",
    "        game_over = False\n",
    "\n",
    "        win = 0\n",
    "        lose = 0\n",
    "\n",
    "        while not game_over:\n",
    "            # The agent performs an action\n",
    "            action = agent.learned_act(state)\n",
    "            \n",
    "\n",
    "            # Apply an action to the environment, get the next state, the reward\n",
    "            # and if the games end\n",
    "            prev_state = state\n",
    "            state, reward, game_over = env.act(action)\n",
    "\n",
    "            # Update the counters\n",
    "            if reward > 0:\n",
    "                win = win + reward\n",
    "            if reward < 0:\n",
    "                lose = lose -reward\n",
    "\n",
    "        # Save as a mp4\n",
    "        env.draw(prefix+str(e))\n",
    "\n",
    "        # Update stats\n",
    "        score = score + win-lose\n",
    "\n",
    "        print(\"Win/lose count {}/{}. Average score ({})\"\n",
    "              .format(win, lose, score/(1+e)))\n",
    "    print('Final score: '+str(score/epochs))"
   ]
  },
  {
   "cell_type": "code",
   "execution_count": 8,
   "metadata": {},
   "outputs": [
    {
     "name": "stdout",
     "output_type": "stream",
     "text": [
      "Win/lose count 12.0/16.0. Average score (-4.0)\n",
      "Win/lose count 10.0/12.0. Average score (-3.0)\n",
      "Win/lose count 11.0/18.0. Average score (-4.333333333333333)\n",
      "Win/lose count 6.5/8.0. Average score (-3.625)\n",
      "Win/lose count 9.5/10.0. Average score (-3.0)\n",
      "Win/lose count 8.5/10.0. Average score (-2.75)\n",
      "Win/lose count 12.0/14.0. Average score (-2.642857142857143)\n",
      "Win/lose count 15.0/23.0. Average score (-3.3125)\n",
      "Win/lose count 11.5/12.0. Average score (-3.0)\n",
      "Win/lose count 8.0/16.0. Average score (-3.5)\n",
      "Win/lose count 7.5/13.0. Average score (-3.6818181818181817)\n",
      "Win/lose count 10.5/5.0. Average score (-2.9166666666666665)\n",
      "Win/lose count 9.5/14.0. Average score (-3.0384615384615383)\n",
      "Win/lose count 10.5/10.0. Average score (-2.7857142857142856)\n",
      "Win/lose count 5.5/4.0. Average score (-2.5)\n",
      "Win/lose count 10.5/18.0. Average score (-2.8125)\n",
      "Win/lose count 11.0/12.0. Average score (-2.7058823529411766)\n",
      "Win/lose count 9.0/16.0. Average score (-2.9444444444444446)\n",
      "Win/lose count 8.5/16.0. Average score (-3.1842105263157894)\n",
      "Win/lose count 7.5/14.0. Average score (-3.35)\n",
      "Win/lose count 10.5/16.0. Average score (-3.4523809523809526)\n",
      "Final score: -3.4523809523809526\n"
     ]
    },
    {
     "data": {
      "text/html": [
       "<video alt=\"test\" controls>\n",
       "                <source src=\"data:video/mp4;base64,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\" type=\"video/mp4\" />\n",
       "             </video>"
      ],
      "text/plain": [
       "<IPython.core.display.HTML object>"
      ]
     },
     "execution_count": 8,
     "metadata": {},
     "output_type": "execute_result"
    }
   ],
   "source": [
    "# Initialize the game\n",
    "env = Environment(grid_size=size, max_time=T,temperature=temperature)\n",
    "\n",
    "# Initialize the agent!\n",
    "agent = RandomAgent()\n",
    "\n",
    "test(agent,env,epochs_test,prefix='random')\n",
    "HTML(display_videos('random0.mp4'))"
   ]
  },
  {
   "cell_type": "markdown",
   "metadata": {},
   "source": [
    "***\n",
    "## DQN"
   ]
  },
  {
   "cell_type": "markdown",
   "metadata": {},
   "source": [
    "Let us assume here that $T=\\infty$.\n",
    "\n",
    "***\n",
    "__Question 5__ Let $\\pi$ be a policy, show that:\n",
    "\n",
    "\\begin{equation*}\n",
    "Q^{\\pi}(s,a)=E_{(s',a')\\sim p(.|s,a)}[r(s,a)+\\gamma Q^{\\pi}(s',a')]\n",
    "\\end{equation*}\n",
    "\n",
    "Then, show that for the optimal policy $\\pi^*$ (we assume its existence), the following holds: \n",
    "\n",
    "\\begin{equation*}\n",
    "Q^{*}(s,a)=E_{s'\\sim \\pi^*(.|s,a)}[r(s,a)+\\gamma\\max_{a'}Q^{*}(s',a')].\n",
    "\\end{equation*}\n",
    "Finally, deduce that a plausible objective is:\n",
    "\n",
    "\\begin{equation*}\n",
    "\\mathcal{L}(\\theta)=E_{s' \\sim \\pi^*(.|s,a)}\\Vert r+\\gamma\\max\\max_{a'}Q(s',a',\\theta)-Q(s,a,\\theta)\\Vert^{2}.\n",
    "\\end{equation*}\n",
    "\n",
    "\n"
   ]
  },
  {
   "cell_type": "markdown",
   "metadata": {},
   "source": [
    "\\begin{equation*}\n",
    "Q^{*}(s,a)=E_{s'\\sim \\pi^*(.|s,a)}[r(s,a)+\\gamma\\max_{a'}Q^{*}(s',a')].\n",
    "\\end{equation*}\n",
    "Finally, deduce that a plausible objective is:\n",
    "\n",
    "\\begin{equation*}\n",
    "\\mathcal{L}(\\theta)=E_{s' \\sim \\pi^*(.|s,a)}\\Vert r+\\gamma\\max\\max_{a'}Q(s',a',\\theta)-Q(s,a,\\theta)\\Vert^{2}.\n",
    "\\end{equation*}"
   ]
  },
  {
   "cell_type": "markdown",
   "metadata": {},
   "source": []
  },
  {
   "cell_type": "markdown",
   "metadata": {},
   "source": [
    "***\n",
    "The DQN-learning algorithm relies on these derivations to train the parameters $\\theta$ of a Deep Neural Network:\n",
    "\n",
    "1. At the state $s_t$, select the action $a_t$ with best reward using $Q_t$ and store the results;\n",
    "\n",
    "2. Obtain the new state $s_{t+1}$ from the environment $p$;\n",
    "\n",
    "3. Store $(s_t,a_t,s_{t+1})$;\n",
    "\n",
    "4. Obtain $Q_{t+1}$ by minimizing  $\\mathcal{L}$ from a recovered batch from the previously stored results.\n",
    "\n",
    "***\n",
    "__Question 6__ Implement the class ```Memory``` that stores moves (in a replay buffer) via ```remember``` and provides a ```random_access``` to these. Specify a maximum memory size to avoid side effects. You can for example use a ```list()``` and set by default ```max_memory=100```."
   ]
  },
  {
   "cell_type": "code",
   "execution_count": 26,
   "metadata": {},
   "outputs": [],
   "source": [
    "class Memory(object):\n",
    "    def __init__(self, max_memory=100):\n",
    "        self.max_memory = max_memory\n",
    "        self.memory = list()\n",
    "\n",
    "    def remember(self, m):\n",
    "        #if len(memory)>self.max_memory:\n",
    "        #   self.memory.remove(self.memory[0])\n",
    "        self.memory.append(m)\n",
    "            \n",
    "        \n",
    "\n",
    "    def random_access(self):\n",
    "        #print(np.random.sample(self.memory,16))\n",
    "        #print(len(np.random.sample(len(self.memory))))\n",
    "        idx = np.random.randint(0, len(self.memory))\n",
    "        \n",
    "        #print(minibatch)\n",
    "        return self.memory[idx]\n",
    "        #random.choice(self.memory)\n",
    "        "
   ]
  },
  {
   "cell_type": "markdown",
   "metadata": {},
   "source": [
    "***\n",
    "The pipeline we will use for training is given below:"
   ]
  },
  {
   "cell_type": "code",
   "execution_count": 10,
   "metadata": {},
   "outputs": [],
   "source": [
    "def train(agent,env,epoch,prefix=''):\n",
    "    # Number of won games\n",
    "    score = 0\n",
    "    loss = 0\n",
    "\n",
    "    for e in range(epoch):\n",
    "        # At each epoch, we restart to a fresh game and get the initial state\n",
    "        state = env.reset()\n",
    "        # This assumes that the games will terminate\n",
    "        game_over = False\n",
    "\n",
    "        win = 0\n",
    "        lose = 0\n",
    "\n",
    "        while not game_over:\n",
    "            # The agent performs an action\n",
    "            action = agent.act(state, train=True)\n",
    "\n",
    "            # Apply an action to the environment, get the next state, the reward\n",
    "            # and if the games end\n",
    "            prev_state = state\n",
    "            state, reward, game_over = env.act(action, train=True)\n",
    "\n",
    "            # Update the counters\n",
    "            if reward > 0:\n",
    "                win = win + reward\n",
    "            if reward < 0:\n",
    "                lose = lose -reward\n",
    "\n",
    "            # Apply the reinforcement strategy\n",
    "            loss = agent.reinforce(prev_state, state,  action, reward, game_over)\n",
    "\n",
    "        # Save as a mp4\n",
    "        if e % 10 == 0:\n",
    "            env.draw(prefix+str(e))\n",
    "\n",
    "        # Update stats\n",
    "        score += win-lose\n",
    "\n",
    "        print(\"Epoch {:03d}/{:03d} | Loss {:.4f} | Win/lose count {}/{} ({})\"\n",
    "              .format(e, epoch, loss, win, lose, win-lose))\n",
    "        agent.save(name_weights=prefix+'model.h5',name_model=prefix+'model.json')"
   ]
  },
  {
   "cell_type": "markdown",
   "metadata": {},
   "source": [
    "***\n",
    "__Question 7__ Implement the DQN training algorithm using a cascade of fully connected layers. You can use different learning rate, batch size or memory size parameters. In particular, the loss might oscillate while the player will start to win the games. You have to find a good criterium."
   ]
  },
  {
   "cell_type": "code",
   "execution_count": 27,
   "metadata": {},
   "outputs": [],
   "source": [
    "class DQN(Agent):\n",
    "    def __init__(self, grid_size,  epsilon = 0.1, memory_size=100, batch_size = 16,n_state=2):\n",
    "        super(DQN, self).__init__(epsilon = epsilon)\n",
    "\n",
    "        # Discount for Q learning\n",
    "        self.discount = 0.99\n",
    "        \n",
    "        self.grid_size = grid_size\n",
    "        \n",
    "        # number of state\n",
    "        self.n_state = n_state\n",
    "\n",
    "        # Memory\n",
    "        self.memory = Memory(memory_size)\n",
    "        \n",
    "        # Batch size when learning\n",
    "        self.batch_size = batch_size\n",
    "\n",
    "    def learned_act(self, s):\n",
    "        act_values = self.model.predict(np.array([s],ndmin=2))\n",
    "        return np.argmax(act_values[0])\n",
    "        \n",
    "\n",
    "    def reinforce(self, s_, n_s_, a_, r_, game_over_):\n",
    "        # Two steps: first memorize the states, second learn from the pool\n",
    "\n",
    "        self.memory.remember([s_, n_s_, a_, r_, game_over_])\n",
    "        \n",
    "        input_states = np.zeros((self.batch_size, 5,5,self.n_state))\n",
    "        target_q = np.zeros((self.batch_size, 4))\n",
    "        \n",
    "        \n",
    "        for i in range(self.batch_size):\n",
    "            minibatch=self.memory.random_access()\n",
    "            s_ = minibatch[0]\n",
    "            n_s_ = minibatch[1]\n",
    "            a_ = minibatch[2]   \n",
    "            r_ = minibatch[3]\n",
    "            g_over_ = minibatch[4]\n",
    "            input_states[i] = s_\n",
    "            s_reshape=np.reshape(s_,(1,5,5,self.n_state))\n",
    "            n_s_reshape=np.reshape(n_s_,(1,5,5,self.n_state))\n",
    "            target_q[i] = self.model.predict(s_reshape)\n",
    "           \n",
    "            if game_over_:\n",
    "\n",
    "                target_q[i,a_]=r_\n",
    "            else:\n",
    "                Q_sa = self.model.predict(n_s_reshape)\n",
    "                target_q[i,a_] = r_ + self.discount * np.max(Q_sa)\n",
    "                \n",
    "                \n",
    "        ######## FILL IN\n",
    "        # HINT: Clip the target to avoid exploiding gradients.. -- clipping is a bit tighter\n",
    "        \n",
    "        \n",
    "        target_q = np.clip(target_q, -3, 3)\n",
    "\n",
    "        l = self.model.train_on_batch(input_states, target_q)\n",
    "\n",
    "\n",
    "        return l\n",
    "\n",
    "    def save(self,name_weights='model.h5',name_model='model.json'):\n",
    "        self.model.save_weights(name_weights, overwrite=True)\n",
    "        with open(name_model, \"w\") as outfile:\n",
    "            json.dump(self.model.to_json(), outfile)\n",
    "            \n",
    "    def load(self,name_weights='model.h5',name_model='model.json'):\n",
    "        with open(name_model, \"r\") as jfile:\n",
    "            model = model_from_json(json.load(jfile))\n",
    "        model.load_weights(name_weights)\n",
    "        model.compile(\"sgd\", \"mse\")\n",
    "        self.model = model\n",
    "\n",
    "            \n",
    "class DQN_FC(DQN):\n",
    "    def __init__(self, *args, lr=0.1,**kwargs):\n",
    "        super(DQN_FC, self).__init__( *args,**kwargs)\n",
    "                \n",
    "        # NN Model\n",
    "        \n",
    "        hidden_size= 24\n",
    "        epsilon = .1  # exploration\n",
    "        num_actions = 4  # [move_left, move_right, move up, move down]\n",
    "        max_memory = 5000\n",
    "        batch_size = 50\n",
    "        grid_size = 10\n",
    "        \n",
    "        # NN Model\n",
    "        model = Sequential()\n",
    "        model.add(Reshape((5*5*self.n_state,), input_shape=(5,5,self.n_state)))\n",
    "        model.add(Dense(64, input_shape=(grid_size**2,), activation='relu'))\n",
    "        model.add(Dense(24, activation='relu'))\n",
    "        model.add(Dense(num_actions, activation='linear'))\n",
    "        model.compile(sgd(lr=lr, decay=0.0001, momentum=0.0), \"mse\")\n",
    "        self.model=model"
   ]
  },
  {
   "cell_type": "code",
   "execution_count": 12,
   "metadata": {},
   "outputs": [
    {
     "name": "stdout",
     "output_type": "stream",
     "text": [
      "Epoch 000/021 | Loss 1.0262 | Win/lose count 1.5/0 (1.5)\n",
      "Epoch 001/021 | Loss 2.1285 | Win/lose count 1.0/3.0 (-2.0)\n",
      "Epoch 002/021 | Loss 2.1463 | Win/lose count 3.0/0 (3.0)\n",
      "Epoch 003/021 | Loss 2.0508 | Win/lose count 3.5/4.0 (-0.5)\n",
      "Epoch 004/021 | Loss 1.9085 | Win/lose count 1.0/5.0 (-4.0)\n",
      "Epoch 005/021 | Loss 2.0796 | Win/lose count 3.5/2.0 (1.5)\n",
      "Epoch 006/021 | Loss 1.9250 | Win/lose count 3.0/5.0 (-2.0)\n",
      "Epoch 007/021 | Loss 2.0257 | Win/lose count 2.0/5.0 (-3.0)\n",
      "Epoch 008/021 | Loss 2.0127 | Win/lose count 2.0/3.0 (-1.0)\n",
      "Epoch 009/021 | Loss 1.9811 | Win/lose count 2.0/4.0 (-2.0)\n",
      "Epoch 010/021 | Loss 2.0032 | Win/lose count 5.0/4.0 (1.0)\n",
      "Epoch 011/021 | Loss 2.0237 | Win/lose count 1.5/2.0 (-0.5)\n",
      "Epoch 012/021 | Loss 1.9824 | Win/lose count 3.5/2.0 (1.5)\n",
      "Epoch 013/021 | Loss 2.0375 | Win/lose count 6.0/2.0 (4.0)\n",
      "Epoch 014/021 | Loss 1.9363 | Win/lose count 4.0/5.0 (-1.0)\n",
      "Epoch 015/021 | Loss 1.9968 | Win/lose count 10.0/6.0 (4.0)\n",
      "Epoch 016/021 | Loss 2.0084 | Win/lose count 4.5/3.0 (1.5)\n",
      "Epoch 017/021 | Loss 2.0284 | Win/lose count 3.5/1.0 (2.5)\n",
      "Epoch 018/021 | Loss 2.0239 | Win/lose count 8.0/3.0 (5.0)\n",
      "Epoch 019/021 | Loss 1.9928 | Win/lose count 4.5/3.0 (1.5)\n",
      "Epoch 020/021 | Loss 1.9160 | Win/lose count 4.0/7.0 (-3.0)\n"
     ]
    },
    {
     "data": {
      "text/html": [
       "<video alt=\"test\" controls>\n",
       "                <source src=\"data:video/mp4;base64,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\" type=\"video/mp4\" />\n",
       "             </video>"
      ],
      "text/plain": [
       "<IPython.core.display.HTML object>"
      ]
     },
     "execution_count": 12,
     "metadata": {},
     "output_type": "execute_result"
    }
   ],
   "source": [
    "env = Environment(grid_size=size, max_time=T, temperature=0.3)\n",
    "agent = DQN_FC(size, lr=.1, epsilon = 0.2, memory_size=16000, batch_size = 32)\n",
    "train(agent, env, epochs_train, prefix='fc_train')\n",
    "HTML(display_videos('fc_train20.mp4'))"
   ]
  },
  {
   "cell_type": "markdown",
   "metadata": {},
   "source": [
    "***\n",
    "***\n",
    "__Question 8__ Implement the DQN training algorithm using a CNN (for example, 2 convolutional layers and one final fully connected layer)."
   ]
  },
  {
   "cell_type": "code",
   "execution_count": 30,
   "metadata": {},
   "outputs": [],
   "source": [
    "class DQN_CNN(DQN):\n",
    "    def __init__(self, *args,lr=0.1,**kwargs):\n",
    "        super().__init__(*args,**kwargs)\n",
    "        #super(DQN_CNN, self).__init__(*args,**kwargs)\n",
    "        \n",
    "        \n",
    "        hidden_size= 24\n",
    "        epsilon = .1  # exploration\n",
    "        num_actions = 4  # [move_left, move_up, move_down, move_right,]\n",
    "        max_memory = 500\n",
    "        batch_size = 50\n",
    "        grid_size = 10\n",
    "        \n",
    "        \n",
    "        model = Sequential()\n",
    "        model.add(Conv2D(128, kernel_size=(2, 2),activation='linear',input_shape=(5,5,self.n_state)))\n",
    "        model.add(Conv2D(64, (3, 3), activation='linear',padding='same'))\n",
    "        model.add(Dense(24, activation='relu'))\n",
    "        #model.add(MaxPooling2D(pool_size=(2, 2))\n",
    "        model.add(Flatten())\n",
    "        #model.add(Dense(256, activation='relu'))\n",
    "        #model.add(Dropout(0.5))\n",
    "\n",
    "        model.add(Dense(num_actions, activation='linear'))\n",
    "        \n",
    "        model.compile(sgd(lr=lr, decay=1e-4, momentum=0.0), \"mse\")\n",
    "        self.model = model"
   ]
  },
  {
   "cell_type": "code",
   "execution_count": 14,
   "metadata": {},
   "outputs": [
    {
     "name": "stdout",
     "output_type": "stream",
     "text": [
      "Epoch 000/021 | Loss 1.1276 | Win/lose count 7.0/8.0 (-1.0)\n",
      "Epoch 001/021 | Loss 1.9511 | Win/lose count 8.0/3.0 (5.0)\n",
      "Epoch 002/021 | Loss 2.0291 | Win/lose count 13.0/7.0 (6.0)\n",
      "Epoch 003/021 | Loss 1.7995 | Win/lose count 6.0/3.0 (3.0)\n",
      "Epoch 004/021 | Loss 2.0176 | Win/lose count 14.5/3.0 (11.5)\n",
      "Epoch 005/021 | Loss 1.9356 | Win/lose count 8.5/8.0 (0.5)\n",
      "Epoch 006/021 | Loss 1.9226 | Win/lose count 15.5/3.0 (12.5)\n",
      "Epoch 007/021 | Loss 1.9054 | Win/lose count 15.0/4.0 (11.0)\n",
      "Epoch 008/021 | Loss 1.9114 | Win/lose count 11.5/2.0 (9.5)\n",
      "Epoch 009/021 | Loss 1.9201 | Win/lose count 6.5/2.0 (4.5)\n",
      "Epoch 010/021 | Loss 1.9209 | Win/lose count 9.5/4.0 (5.5)\n",
      "Epoch 011/021 | Loss 1.8818 | Win/lose count 5.5/3.0 (2.5)\n",
      "Epoch 012/021 | Loss 1.9585 | Win/lose count 10.0/4.0 (6.0)\n",
      "Epoch 013/021 | Loss 1.9233 | Win/lose count 17.0/7.0 (10.0)\n",
      "Epoch 014/021 | Loss 1.9542 | Win/lose count 17.5/1.0 (16.5)\n",
      "Epoch 015/021 | Loss 1.9571 | Win/lose count 2.0/1.0 (1.0)\n",
      "Epoch 016/021 | Loss 1.8331 | Win/lose count 17.5/1.0 (16.5)\n",
      "Epoch 017/021 | Loss 1.8121 | Win/lose count 6.5/5.0 (1.5)\n",
      "Epoch 018/021 | Loss 1.9130 | Win/lose count 20.5/8.0 (12.5)\n",
      "Epoch 019/021 | Loss 1.8748 | Win/lose count 17.0/0 (17.0)\n",
      "Epoch 020/021 | Loss 1.8638 | Win/lose count 11.5/1.0 (10.5)\n"
     ]
    },
    {
     "data": {
      "text/html": [
       "<video alt=\"test\" controls>\n",
       "                <source src=\"data:video/mp4;base64,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\" type=\"video/mp4\" />\n",
       "             </video>"
      ],
      "text/plain": [
       "<IPython.core.display.HTML object>"
      ]
     },
     "execution_count": 14,
     "metadata": {},
     "output_type": "execute_result"
    }
   ],
   "source": [
    "env = Environment(grid_size=size, max_time=T, temperature=0.3)\n",
    "agent = DQN_CNN(size, lr=.1, epsilon = 0.1, memory_size=2000, batch_size = 32)\n",
    "train(agent,env,epochs_train,prefix='cnn_train')\n",
    "HTML(display_videos('cnn_train20.mp4'))"
   ]
  },
  {
   "cell_type": "code",
   "execution_count": 15,
   "metadata": {},
   "outputs": [
    {
     "data": {
      "text/html": [
       "<video alt=\"test\" controls>\n",
       "                <source src=\"data:video/mp4;base64,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\" type=\"video/mp4\" />\n",
       "             </video>"
      ],
      "text/plain": [
       "<IPython.core.display.HTML object>"
      ]
     },
     "execution_count": 15,
     "metadata": {},
     "output_type": "execute_result"
    }
   ],
   "source": [
    "HTML(display_videos('cnn_train20.mp4'))"
   ]
  },
  {
   "cell_type": "markdown",
   "metadata": {},
   "source": [
    "***\n",
    "***\n",
    "__Question 9__ Test both algorithms and compare their performances. Which issue(s) do you observe? Observe also different behaviors by changing the temperature."
   ]
  },
  {
   "cell_type": "code",
   "execution_count": 16,
   "metadata": {},
   "outputs": [
    {
     "name": "stdout",
     "output_type": "stream",
     "text": [
      "Test of the CNN\n",
      "Win/lose count 3.0/1.0. Average score (2.0)\n",
      "Win/lose count 1.0/1.0. Average score (1.0)\n",
      "Win/lose count 3.0/1.0. Average score (1.3333333333333333)\n",
      "Win/lose count 2.0/2.0. Average score (1.0)\n",
      "Win/lose count 1.0/0. Average score (1.0)\n",
      "Win/lose count 0.5/0. Average score (0.9166666666666666)\n",
      "Win/lose count 2.0/0. Average score (1.0714285714285714)\n",
      "Win/lose count 0.5/0. Average score (1.0)\n",
      "Win/lose count 3.0/0. Average score (1.2222222222222223)\n",
      "Win/lose count 1.5/0. Average score (1.25)\n",
      "Win/lose count 2.0/1.0. Average score (1.2272727272727273)\n",
      "Win/lose count 4.0/0. Average score (1.4583333333333333)\n",
      "Win/lose count 4.0/1.0. Average score (1.5769230769230769)\n",
      "Win/lose count 1.0/0. Average score (1.5357142857142858)\n",
      "Win/lose count 1.5/1.0. Average score (1.4666666666666666)\n",
      "Win/lose count 1.5/1.0. Average score (1.40625)\n",
      "Win/lose count 1.0/0. Average score (1.3823529411764706)\n",
      "Win/lose count 2.5/1.0. Average score (1.3888888888888888)\n",
      "Win/lose count 0.5/0. Average score (1.3421052631578947)\n",
      "Win/lose count 3.5/0. Average score (1.45)\n",
      "Win/lose count 2.0/2.0. Average score (1.380952380952381)\n",
      "Final score: 1.380952380952381\n",
      "Test of the FC\n",
      "Win/lose count 3.0/3.0. Average score (0.0)\n",
      "Win/lose count 2.0/3.0. Average score (-0.5)\n",
      "Win/lose count 2.5/2.0. Average score (-0.16666666666666666)\n",
      "Win/lose count 2.5/0. Average score (0.5)\n",
      "Win/lose count 2.5/6.0. Average score (-0.3)\n",
      "Win/lose count 2.0/0. Average score (0.08333333333333333)\n",
      "Win/lose count 0/0. Average score (0.07142857142857142)\n",
      "Win/lose count 2.0/1.0. Average score (0.1875)\n",
      "Win/lose count 2.0/0. Average score (0.3888888888888889)\n",
      "Win/lose count 2.0/2.0. Average score (0.35)\n",
      "Win/lose count 1.0/2.0. Average score (0.22727272727272727)\n",
      "Win/lose count 1.0/1.0. Average score (0.20833333333333334)\n",
      "Win/lose count 1.0/2.0. Average score (0.11538461538461539)\n",
      "Win/lose count 1.5/4.0. Average score (-0.07142857142857142)\n",
      "Win/lose count 2.0/2.0. Average score (-0.06666666666666667)\n",
      "Win/lose count 0.5/0. Average score (-0.03125)\n",
      "Win/lose count 0.5/0. Average score (0.0)\n",
      "Win/lose count 3.0/4.0. Average score (-0.05555555555555555)\n",
      "Win/lose count 3.5/2.0. Average score (0.02631578947368421)\n",
      "Win/lose count 2.5/4.0. Average score (-0.05)\n",
      "Win/lose count 4.5/2.0. Average score (0.07142857142857142)\n",
      "Final score: 0.07142857142857142\n"
     ]
    }
   ],
   "source": [
    "env = Environment(grid_size=size, max_time=T,temperature=0.8)#change back the temperature to 0.3\n",
    "agent_cnn = DQN_CNN(size, lr=.1, epsilon = 0.1, memory_size=2000, batch_size = 32)\n",
    "agent_cnn.load(name_weights='cnn_trainmodel.h5',name_model='cnn_trainmodel.json')\n",
    "\n",
    "agent_fc = DQN_FC(size, lr=.1, epsilon = 0.1, memory_size=2000, batch_size = 32)\n",
    "agent_cnn.load(name_weights='fc_trainmodel.h5',name_model='fc_trainmodel.json')\n",
    "print('Test of the CNN')\n",
    "test(agent_cnn,env,epochs_test,prefix='cnn_test')\n",
    "print('Test of the FC')\n",
    "test(agent_fc,env,epochs_test,prefix='fc_test')"
   ]
  },
  {
   "cell_type": "code",
   "execution_count": 17,
   "metadata": {},
   "outputs": [
    {
     "data": {
      "text/html": [
       "<video alt=\"test\" controls>\n",
       "                <source src=\"data:video/mp4;base64,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\" type=\"video/mp4\" />\n",
       "             </video>"
      ],
      "text/plain": [
       "<IPython.core.display.HTML object>"
      ]
     },
     "execution_count": 17,
     "metadata": {},
     "output_type": "execute_result"
    }
   ],
   "source": [
    "HTML(display_videos('cnn_test19.mp4'))"
   ]
  },
  {
   "cell_type": "code",
   "execution_count": 18,
   "metadata": {},
   "outputs": [
    {
     "data": {
      "text/html": [
       "<video alt=\"test\" controls>\n",
       "                <source src=\"data:video/mp4;base64,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\" type=\"video/mp4\" />\n",
       "             </video>"
      ],
      "text/plain": [
       "<IPython.core.display.HTML object>"
      ]
     },
     "execution_count": 18,
     "metadata": {},
     "output_type": "execute_result"
    }
   ],
   "source": [
    "HTML(display_videos('fc_test19.mp4'))"
   ]
  },
  {
   "cell_type": "markdown",
   "metadata": {},
   "source": [
    "According to the test results, we observe that the CNN models'average scores are higher than the FC's. We conclude that the CNN model is the best one.\n",
    "When we increase the temperature, we can observe better results for both models, since we are increasing the percentage of cheeses on the board (binomial distribution).\n",
    "However, in both models, the agent seems to stay stuck.\n",
    "He doesn't move a lot from its position, does not explore the board enough. He can't learn well enough.\n",
    "exploration: The environment is explored, in order to make estimates of rewards for action taken more accurate;\n",
    "exploitation: Maximization of expected reward, although it can not be done with certainty, because we only have estimates of rewards for actions already taken.\n",
    "The dilemma is to find the balance between exploring actions that have not been taken before or have been tried very few times to further knowledge and exploiting knowledge already acquired from actions that have been already taken multiple times.\n"
   ]
  },
  {
   "cell_type": "markdown",
   "metadata": {},
   "source": [
    "***\n",
    "\n",
    "The algorithm tends to not explore the map which can be an issue. We propose two ideas in order to encourage exploration:\n",
    "1. Incorporating a decreasing $\\epsilon$-greedy exploration. You can use the method ```set_epsilon```\n",
    "2. Append via the environment a new state that describes if a cell has been visited or not\n",
    "\n",
    "***\n",
    "__Question 10__ Design a new ```train_explore``` function and environment class ```EnvironmentExploring``` to tackle the issue of exploration.\n",
    "\n"
   ]
  },
  {
   "cell_type": "code",
   "execution_count": 31,
   "metadata": {},
   "outputs": [],
   "source": [
    "def train_explore(agent,env,epoch,prefix=''):\n",
    "    # Number of won games\n",
    "    score = 0\n",
    "    loss = 0\n",
    "    epsilon_decay = 0.995\n",
    "    \n",
    "    for e in range(1,epoch+1):\n",
    "        # At each epoch, we restart to a fresh game and get the initial state\n",
    "        state = env.reset()\n",
    "        # This assumes that the games will terminate\n",
    "        game_over = False\n",
    "\n",
    "        win = 0\n",
    "        lose = 0\n",
    "\n",
    "        while not game_over:\n",
    "            \n",
    "            # Epsilon-greedy exploration\n",
    "            agent.set_epsilon(np.float(agent.get_epsilon()/e))\n",
    "\n",
    "            \n",
    "            # The agent performs an action\n",
    "            action = agent.act(state , train=True)\n",
    "\n",
    "            # Apply an action to the environment, get the next state, the reward\n",
    "            # and if the games end\n",
    "            prev_state = state\n",
    "            state, reward, game_over = env.act(action, train=True)\n",
    "\n",
    "            # Update the counters\n",
    "            if reward > 0:\n",
    "                win = win + reward\n",
    "            if reward < 0:\n",
    "                lose = lose - reward\n",
    "\n",
    "            # Apply the reinforcement strategy\n",
    "            loss = agent.reinforce(prev_state, state,  action, reward, game_over)\n",
    "\n",
    "            \n",
    "        # Save as a mp4\n",
    "        #if e % 5 == 0:\n",
    "        env.draw(prefix+str(e))\n",
    "\n",
    "        # Update stats\n",
    "        score += win-lose\n",
    "\n",
    "        print(\"Epoch {:03d}/{:03d} | Loss {:.4f} | Win/lose count {}/{} ({})\"\n",
    "              .format(e, epoch, loss, win, lose, win-lose))\n",
    "        agent.save(name_weights=prefix+'model.h5',name_model=prefix+'model.json')\n",
    "        \n",
    "    print('Final score: '+str(score/epoch))\n",
    "\n",
    "class EnvironmentExploring(object):\n",
    "    def __init__(self, grid_size=10, max_time=500, temperature=0.1):\n",
    "        grid_size = grid_size+4 #increasing plateau of 2 cells\n",
    "        self.grid_size = grid_size\n",
    "        self.max_time = max_time\n",
    "        self.temperature = temperature\n",
    "        self.malus_position=np.zeros((grid_size,grid_size))\n",
    "        self.board = np.zeros((grid_size,grid_size))\n",
    "        self.position = np.zeros((grid_size,grid_size))\n",
    "\n",
    "        # coordinate of the cat\n",
    "        self.x = 0\n",
    "        self.y = 1\n",
    "\n",
    "        # self time\n",
    "        self.t = 0\n",
    "        #for screening\n",
    "        self.scale=16\n",
    "\n",
    "        self.to_draw = np.zeros((max_time+2, grid_size*self.scale, grid_size*self.scale, 3))\n",
    "\n",
    "\n",
    "    def draw(self,e):\n",
    "        skvideo.io.vwrite(str(e) + '.mp4', self.to_draw)\n",
    "\n",
    "    def get_frame(self,t):\n",
    "        b = np.zeros((self.grid_size,self.grid_size,3))+128\n",
    "        b[self.board>0,0] = 256\n",
    "        b[self.board < 0, 2] = 256\n",
    "        b[self.x,self.y,:]=256\n",
    "        b[-2:,:,:]=0\n",
    "        b[:,-2:,:]=0\n",
    "        b[:2,:,:]=0\n",
    "        b[:,:2,:]=0\n",
    "        \n",
    "        b =  cv2.resize(b, None, fx=self.scale, fy=self.scale, interpolation=cv2.INTER_NEAREST)\n",
    "\n",
    "        self.to_draw[t,:,:,:]=b\n",
    "\n",
    "\n",
    "    def act(self, action, train=False):\n",
    "        \"\"\"This function returns the new state, reward and decides if the\n",
    "        game ends.\n",
    "        l'environnement recoit l'action et se modifie\"\"\"\n",
    "\n",
    "        self.get_frame(int(self.t))\n",
    "        \n",
    "        #reinitialisation de la position du rat à chaque partie mais pas le bord\n",
    "        self.position = np.zeros((self.grid_size, self.grid_size))\n",
    "        \n",
    "        #eau autour du board d'action\n",
    "        self.position[0:2,:]= -1\n",
    "        self.position[:,0:2] = -1\n",
    "        self.position[-2:, :] = -1\n",
    "        self.position[:, -2:] = -1\n",
    "\n",
    "        self.position[self.x, self.y] = 1\n",
    "        #differentes positions possibles\n",
    "        if action == 0:\n",
    "            if self.x == self.grid_size-3:\n",
    "                self.x = self.x-1\n",
    "            else:\n",
    "                self.x = self.x + 1\n",
    "        elif action == 1:\n",
    "            if self.x == 2:\n",
    "                self.x = self.x+1\n",
    "            else:\n",
    "                self.x = self.x-1\n",
    "        elif action == 2:\n",
    "            if self.y == self.grid_size - 3:\n",
    "                self.y = self.y - 1\n",
    "            else:\n",
    "                self.y = self.y + 1\n",
    "        elif action == 3:\n",
    "            if self.y == 2:\n",
    "                self.y = self.y + 1\n",
    "            else:\n",
    "                self.y = self.y - 1\n",
    "        else:\n",
    "            RuntimeError('Error: action not recognized')\n",
    "            \n",
    "        reward = 0\n",
    "        if train:\n",
    "            reward = -self.malus_position[self.x, self.y]\n",
    "        self.malus_position[self.x, self.y] = 0.1\n",
    "\n",
    "        reward = reward + self.board[self.x, self.y]\n",
    "        self.t = self.t + 1\n",
    "        #reward =+ self.board[self.x, self.y]\n",
    "        self.board[self.x, self.y] = 0\n",
    "        game_over = self.t > self.max_time\n",
    "        \n",
    "        state = np.concatenate((self.malus_position.reshape(self.grid_size, self.grid_size,1),\n",
    "                                self.board.reshape(self.grid_size, self.grid_size,1),\n",
    "                        self.position.reshape(self.grid_size, self.grid_size,1)),axis=2)\n",
    "        #take only the environment of the rat (everything the rat can see)\n",
    "        state = state[self.x-2:self.x+3,self.y-2:self.y+3,:]\n",
    "\n",
    "        return state, reward, game_over\n",
    "\n",
    "    def reset(self):\n",
    "        \"\"\"This function resets the game and returns the initial state\"\"\"\n",
    "        #generation de la position du rat à au moins 3 cases de l'eau\n",
    "        self.x = np.random.randint(3, self.grid_size-3, size=1)[0]\n",
    "        self.y = np.random.randint(3, self.grid_size-3, size=1)[0]\n",
    "\n",
    "        #bonus for creation of board\n",
    "        #distribution malus and bonus==> cheese and poison with binomial distribution with temperature 0.5\n",
    "        bonus = 0.5*np.random.binomial(1,self.temperature,size=self.grid_size**2)\n",
    "        bonus = bonus.reshape(self.grid_size,self.grid_size)\n",
    "\n",
    "        malus = -1.0*np.random.binomial(1,self.temperature,size=self.grid_size**2)\n",
    "        malus = malus.reshape(self.grid_size, self.grid_size)\n",
    "\n",
    "        self.to_draw = np.zeros((self.max_time+2, self.grid_size*self.scale, self.grid_size*self.scale, 3))\n",
    "\n",
    "        #cas où on aurait -0.5 , cheese preponderant\n",
    "        malus[bonus>0]=0\n",
    "\n",
    "        self.board = bonus + malus\n",
    "\n",
    "        self.position = np.zeros((self.grid_size, self.grid_size))\n",
    "        self.position[0:2,:]= -1\n",
    "        self.position[:,0:2] = -1\n",
    "        self.position[-2:, :] = -1\n",
    "        self.position[:, -2:] = -1\n",
    "        self.board[self.x,self.y] = 0\n",
    "        self.t = 0\n",
    "\n",
    "        state = np.concatenate((self.malus_position.reshape(self.grid_size, self.grid_size,1),\n",
    "                                self.board.reshape(self.grid_size, self.grid_size,1),\n",
    "                                self.position.reshape(self.grid_size, self.grid_size,1)),axis=2)\n",
    "\n",
    "        state = state[self.x - 2:self.x + 3, self.y - 2:self.y + 3, :]\n",
    "        return state\n",
    "    \n",
    "#incorporing an epsilon greedy this algorithm is to decrease the probability as the number of rounds (t) goes up. \n",
    "#It’s called epsilon-reducing-greedy algorithm. Intuitively, it makes lot of sense. As the number of rounds go up, the probability of choosing an action randomly goes down i.e., there is less exploration and more exploitation. \n",
    "#One way to reduce the probability is as below"
   ]
  },
  {
   "cell_type": "code",
   "execution_count": 32,
   "metadata": {},
   "outputs": [
    {
     "name": "stdout",
     "output_type": "stream",
     "text": [
      "Epoch 001/021 | Loss 0.0192 | Win/lose count 6.0/20.90000000000003 (-14.90000000000003)\n",
      "Epoch 002/021 | Loss 0.3596 | Win/lose count 3.5/21.50000000000002 (-18.00000000000002)\n",
      "Epoch 003/021 | Loss 0.2015 | Win/lose count 1.8/20.400000000000023 (-18.600000000000023)\n",
      "Epoch 004/021 | Loss 0.1004 | Win/lose count 5.199999999999999/18.19999999999999 (-12.99999999999999)\n",
      "Epoch 005/021 | Loss 0.2023 | Win/lose count 4.3/18.799999999999997 (-14.499999999999996)\n",
      "Epoch 006/021 | Loss 0.3567 | Win/lose count 4.5/19.60000000000001 (-15.100000000000009)\n",
      "Epoch 007/021 | Loss 0.4876 | Win/lose count 1.6/19.70000000000001 (-18.10000000000001)\n",
      "Epoch 008/021 | Loss 0.7835 | Win/lose count 7.700000000000003/19.40000000000001 (-11.700000000000006)\n",
      "Epoch 009/021 | Loss 1.5904 | Win/lose count 3.7/19.200000000000003 (-15.500000000000004)\n",
      "Epoch 010/021 | Loss 0.4910 | Win/lose count 3.4/18.9 (-15.499999999999998)\n",
      "Epoch 011/021 | Loss 1.3259 | Win/lose count 6.900000000000001/19.200000000000003 (-12.3)\n",
      "Epoch 012/021 | Loss 1.2329 | Win/lose count 7.0/16.99999999999997 (-9.999999999999972)\n",
      "Epoch 013/021 | Loss 1.2420 | Win/lose count 6.800000000000002/18.39999999999999 (-11.59999999999999)\n",
      "Epoch 014/021 | Loss 1.3986 | Win/lose count 10.800000000000004/18.19999999999999 (-7.399999999999984)\n",
      "Epoch 015/021 | Loss 1.1545 | Win/lose count 9.000000000000004/17.69999999999998 (-8.699999999999978)\n",
      "Epoch 016/021 | Loss 1.3284 | Win/lose count 6.400000000000001/18.099999999999987 (-11.699999999999985)\n",
      "Epoch 017/021 | Loss 1.4201 | Win/lose count 11.300000000000004/18.099999999999987 (-6.799999999999983)\n",
      "Epoch 018/021 | Loss 1.2129 | Win/lose count 15.000000000000009/16.399999999999963 (-1.3999999999999542)\n",
      "Epoch 019/021 | Loss 1.1680 | Win/lose count 9.200000000000003/17.799999999999983 (-8.59999999999998)\n",
      "Epoch 020/021 | Loss 1.1542 | Win/lose count 14.400000000000007/16.399999999999963 (-1.9999999999999556)\n",
      "Epoch 021/021 | Loss 1.1076 | Win/lose count 10.800000000000004/18.299999999999994 (-7.499999999999989)\n",
      "Final score: -11.56666666666666\n"
     ]
    },
    {
     "data": {
      "text/html": [
       "<video alt=\"test\" controls>\n",
       "                <source src=\"data:video/mp4;base64,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\" type=\"video/mp4\" />\n",
       "             </video>"
      ],
      "text/plain": [
       "<IPython.core.display.HTML object>"
      ]
     },
     "execution_count": 32,
     "metadata": {},
     "output_type": "execute_result"
    }
   ],
   "source": [
    "# Training\n",
    "env = EnvironmentExploring(grid_size=size, max_time=T, temperature=0.3)\n",
    "agent = DQN_CNN(size, lr=.1, epsilon = 0.1, memory_size=16000, batch_size = 32,n_state=3)\n",
    "train_explore(agent, env, epochs_train, prefix='cnn_train_explore')\n",
    "HTML(display_videos('cnn_train_explore20.mp4'))"
   ]
  },
  {
   "cell_type": "code",
   "execution_count": 33,
   "metadata": {},
   "outputs": [
    {
     "name": "stdout",
     "output_type": "stream",
     "text": [
      "Win/lose count 5.0/0. Average score (5.0)\n",
      "Win/lose count 11.0/0. Average score (8.0)\n",
      "Win/lose count 5.0/0. Average score (7.0)\n",
      "Win/lose count 3.5/0. Average score (6.125)\n",
      "Win/lose count 1.5/0. Average score (5.2)\n",
      "Win/lose count 2.5/0. Average score (4.75)\n",
      "Win/lose count 3.5/0. Average score (4.571428571428571)\n",
      "Win/lose count 3.5/0. Average score (4.4375)\n",
      "Win/lose count 3.0/1.0. Average score (4.166666666666667)\n",
      "Win/lose count 5.0/0. Average score (4.25)\n",
      "Win/lose count 6.0/0. Average score (4.409090909090909)\n",
      "Win/lose count 5.5/0. Average score (4.5)\n",
      "Win/lose count 9.5/1.0. Average score (4.8076923076923075)\n",
      "Win/lose count 3.5/0. Average score (4.714285714285714)\n",
      "Win/lose count 1.5/0. Average score (4.5)\n",
      "Win/lose count 2.5/0. Average score (4.375)\n",
      "Win/lose count 5.5/0. Average score (4.4411764705882355)\n",
      "Win/lose count 6.0/1.0. Average score (4.472222222222222)\n",
      "Win/lose count 1.0/0. Average score (4.2894736842105265)\n",
      "Win/lose count 6.0/0. Average score (4.375)\n",
      "Win/lose count 6.0/1.0. Average score (4.404761904761905)\n",
      "Final score: 4.404761904761905\n"
     ]
    },
    {
     "data": {
      "text/html": [
       "<video alt=\"test\" controls>\n",
       "                <source src=\"data:video/mp4;base64,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\" type=\"video/mp4\" />\n",
       "             </video>"
      ],
      "text/plain": [
       "<IPython.core.display.HTML object>"
      ]
     },
     "execution_count": 33,
     "metadata": {},
     "output_type": "execute_result"
    }
   ],
   "source": [
    "# Evaluation\n",
    "test(agent,env,epochs_test,prefix='cnn_test_explore')\n",
    "HTML(display_videos('cnn_test_explore20.mp4'))"
   ]
  },
  {
   "cell_type": "markdown",
   "metadata": {},
   "source": [
    "***\n",
    "***\n",
    "__BONUS question__ Use the expert DQN from the previous question to generate some winning games. Train a model that mimicks its behavior. Compare the performances."
   ]
  },
  {
   "cell_type": "markdown",
   "metadata": {},
   "source": []
  },
  {
   "cell_type": "markdown",
   "metadata": {},
   "source": [
    "***"
   ]
  }
 ],
 "metadata": {
  "kernelspec": {
   "display_name": "Python 3",
   "language": "python",
   "name": "python3"
  },
  "language_info": {
   "codemirror_mode": {
    "name": "ipython",
    "version": 3
   },
   "file_extension": ".py",
   "mimetype": "text/x-python",
   "name": "python",
   "nbconvert_exporter": "python",
   "pygments_lexer": "ipython3",
   "version": "3.6.4"
  }
 },
 "nbformat": 4,
 "nbformat_minor": 2
}
